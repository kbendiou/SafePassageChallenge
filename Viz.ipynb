{
 "cells": [
  {
   "cell_type": "code",
   "execution_count": 1,
   "metadata": {
    "collapsed": true
   },
   "outputs": [],
   "source": [
    "def read_detections(idx,row):\n",
    "    D = row['detections'].split('|')\n",
    "    Result = []\n",
    "    for d in D :\n",
    "        Result += [[int(X) for X in d.split(\":\")]]\n",
    "    return Result\n",
    "\n",
    "def show_detected_vehicle(Image_path):\n",
    "    H = 10 \n",
    "    D = []\n",
    "    for idx,row in Training_Observation.iterrows():\n",
    "        if row['image'] == Image_path :\n",
    "            if row['detections'] == row['detections']:\n",
    "                try:\n",
    "                    D += read_detections(idx,row)\n",
    "                except ValueError:\n",
    "                    pass\n",
    "    picture = Image.open('./training/' + Image_path)\n",
    "    for X_coord,Y_coord in D:\n",
    "        for x in np.arange(X_coord -H ,X_coord + H ):\n",
    "            for y in np.arange(Y_coord -H ,Y_coord + H):\n",
    "                current_color = picture.getpixel( (x,y) )\n",
    "                picture.putpixel( (x,y), (255,0,0))\n",
    "    return picture"
   ]
  },
  {
   "cell_type": "code",
   "execution_count": 2,
   "metadata": {
    "collapsed": true
   },
   "outputs": [],
   "source": [
    "from PIL import Image\n",
    "import numpy as np \n",
    "from pandas import *"
   ]
  },
  {
   "cell_type": "code",
   "execution_count": 3,
   "metadata": {
    "collapsed": false
   },
   "outputs": [],
   "source": [
    "Training_Observation = read_csv(\"./trainingObservations.csv\")\n",
    "picture = show_detected_vehicle(\"TQ3477_7_5.jpg\")"
   ]
  },
  {
   "cell_type": "code",
   "execution_count": 4,
   "metadata": {
    "collapsed": false
   },
   "outputs": [],
   "source": [
    "picture.show()"
   ]
  },
  {
   "cell_type": "code",
   "execution_count": null,
   "metadata": {
    "collapsed": true
   },
   "outputs": [],
   "source": []
  }
 ],
 "metadata": {
  "anaconda-cloud": {},
  "kernelspec": {
   "display_name": "Python [default]",
   "language": "python",
   "name": "python2"
  },
  "language_info": {
   "codemirror_mode": {
    "name": "ipython",
    "version": 2
   },
   "file_extension": ".py",
   "mimetype": "text/x-python",
   "name": "python",
   "nbconvert_exporter": "python",
   "pygments_lexer": "ipython2",
   "version": "2.7.12"
  }
 },
 "nbformat": 4,
 "nbformat_minor": 1
}
